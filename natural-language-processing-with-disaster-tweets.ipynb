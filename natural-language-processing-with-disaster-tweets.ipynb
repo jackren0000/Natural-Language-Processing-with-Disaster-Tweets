{
 "cells": [
  {
   "cell_type": "code",
   "execution_count": 1,
   "id": "8c761153",
   "metadata": {
    "_cell_guid": "b1076dfc-b9ad-4769-8c92-a6c4dae69d19",
    "_uuid": "8f2839f25d086af736a60e9eeb907d3b93b6e0e5",
    "execution": {
     "iopub.execute_input": "2024-02-15T16:41:06.744145Z",
     "iopub.status.busy": "2024-02-15T16:41:06.743222Z",
     "iopub.status.idle": "2024-02-15T16:41:09.039934Z",
     "shell.execute_reply": "2024-02-15T16:41:09.038946Z"
    },
    "papermill": {
     "duration": 2.305733,
     "end_time": "2024-02-15T16:41:09.042929",
     "exception": false,
     "start_time": "2024-02-15T16:41:06.737196",
     "status": "completed"
    },
    "tags": []
   },
   "outputs": [],
   "source": [
    "#### import libraries\n",
    "import numpy as np\n",
    "import pandas as pd\n",
    "import matplotlib.pyplot as plt\n",
    "# feature_extraction is used for converting text into numerical features \n",
    "from sklearn import feature_extraction\n",
    "# linear_model contains various linear models for regression and classification\n",
    "from sklearn import linear_model\n",
    "# import train_test_split() function module\n",
    "from sklearn import model_selection\n",
    "# load module including utilities for scaling, normalization, ect\n",
    "from sklearn import preprocessing"
   ]
  },
  {
   "cell_type": "code",
   "execution_count": 2,
   "id": "46428841",
   "metadata": {
    "execution": {
     "iopub.execute_input": "2024-02-15T16:41:09.051525Z",
     "iopub.status.busy": "2024-02-15T16:41:09.050952Z",
     "iopub.status.idle": "2024-02-15T16:41:09.142637Z",
     "shell.execute_reply": "2024-02-15T16:41:09.141169Z"
    },
    "papermill": {
     "duration": 0.098883,
     "end_time": "2024-02-15T16:41:09.145295",
     "exception": false,
     "start_time": "2024-02-15T16:41:09.046412",
     "status": "completed"
    },
    "tags": []
   },
   "outputs": [],
   "source": [
    "# load the train and test datasets\n",
    "train_df = pd.read_csv('/kaggle/input/nlp-getting-started/train.csv')\n",
    "test_df = pd.read_csv('/kaggle/input/nlp-getting-started/test.csv')"
   ]
  },
  {
   "cell_type": "code",
   "execution_count": 3,
   "id": "e80e0196",
   "metadata": {
    "execution": {
     "iopub.execute_input": "2024-02-15T16:41:09.153838Z",
     "iopub.status.busy": "2024-02-15T16:41:09.152761Z",
     "iopub.status.idle": "2024-02-15T16:41:09.193584Z",
     "shell.execute_reply": "2024-02-15T16:41:09.192330Z"
    },
    "papermill": {
     "duration": 0.048571,
     "end_time": "2024-02-15T16:41:09.197056",
     "exception": false,
     "start_time": "2024-02-15T16:41:09.148485",
     "status": "completed"
    },
    "tags": []
   },
   "outputs": [
    {
     "name": "stdout",
     "output_type": "stream",
     "text": [
      "****************************************************************************************************\n",
      "The concise summary of the train dataset:\n",
      "<class 'pandas.core.frame.DataFrame'>\n",
      "RangeIndex: 7613 entries, 0 to 7612\n",
      "Data columns (total 5 columns):\n",
      " #   Column    Non-Null Count  Dtype \n",
      "---  ------    --------------  ----- \n",
      " 0   id        7613 non-null   int64 \n",
      " 1   keyword   7552 non-null   object\n",
      " 2   location  5080 non-null   object\n",
      " 3   text      7613 non-null   object\n",
      " 4   target    7613 non-null   int64 \n",
      "dtypes: int64(2), object(3)\n",
      "memory usage: 297.5+ KB\n",
      "****************************************************************************************************\n",
      "The shape the train dataset: (7613, 5)\n",
      "****************************************************************************************************\n",
      "The first 5 samples of the dataset:    id keyword location                                               text  \\\n",
      "0   1     NaN      NaN  Our Deeds are the Reason of this #earthquake M...   \n",
      "1   4     NaN      NaN             Forest fire near La Ronge Sask. Canada   \n",
      "2   5     NaN      NaN  All residents asked to 'shelter in place' are ...   \n",
      "3   6     NaN      NaN  13,000 people receive #wildfires evacuation or...   \n",
      "4   7     NaN      NaN  Just got sent this photo from Ruby #Alaska as ...   \n",
      "\n",
      "   target  \n",
      "0       1  \n",
      "1       1  \n",
      "2       1  \n",
      "3       1  \n",
      "4       1  \n",
      "****************************************************************************************************\n",
      "The text in first 5 samples of the dataset:\n",
      "{0: 'Our Deeds are the Reason of this #earthquake May ALLAH Forgive us all', 1: 'Forest fire near La Ronge Sask. Canada', 2: \"All residents asked to 'shelter in place' are being notified by officers. No other evacuation or shelter in place orders are expected\", 3: '13,000 people receive #wildfires evacuation orders in California ', 4: 'Just got sent this photo from Ruby #Alaska as smoke from #wildfires pours into a school '}\n"
     ]
    }
   ],
   "source": [
    "# gain basic structure of the train dataset\n",
    "print('*' * 100)\n",
    "print(f'The concise summary of the train dataset:')\n",
    "train_df.info()\n",
    "\n",
    "print('*' * 100)\n",
    "print(f'The shape the train dataset: {train_df.shape}')\n",
    "\n",
    "print('*' * 100)\n",
    "print(f'The first 5 samples of the dataset: {train_df.head()}')\n",
    "\n",
    "print('*' * 100)\n",
    "print(f'The text in first 5 samples of the dataset:')\n",
    "print({i : train_df.iloc[i]['text'] for i in range(5)})"
   ]
  },
  {
   "cell_type": "code",
   "execution_count": 4,
   "id": "eb07eb2d",
   "metadata": {
    "execution": {
     "iopub.execute_input": "2024-02-15T16:41:09.205577Z",
     "iopub.status.busy": "2024-02-15T16:41:09.205137Z",
     "iopub.status.idle": "2024-02-15T16:41:10.078029Z",
     "shell.execute_reply": "2024-02-15T16:41:10.076931Z"
    },
    "papermill": {
     "duration": 0.879921,
     "end_time": "2024-02-15T16:41:10.080578",
     "exception": false,
     "start_time": "2024-02-15T16:41:09.200657",
     "status": "completed"
    },
    "tags": []
   },
   "outputs": [
    {
     "name": "stdout",
     "output_type": "stream",
     "text": [
      "****************************************************************************************************\n",
      "The vocabularies of tweets: \n",
      "['2fenu1syu6' '2fggzqn1v4' '2fibe2haxc' '2for1lapdances' '2fs649qdwx'\n",
      " '2gljhvead9' '2h0dpmv2ef' '2hocep41kh' '2hours' '2hv2y2m2oz' '2i4eoggo5j'\n",
      " '2iafpmqjep' '2ii3brc7nx' '2jbibeib9g' '2jgvhw7yzs' '2jhtlwuey0'\n",
      " '2jr3yo55dr' '2jxkmkpalp' '2k13' '2k15' '2kdq56xtws' '2lbtshxi3c'\n",
      " '2leezy' '2lgtzkwmqw' '2liwkjybe9' '2lqyxzq5dn' '2m1gneaifl' '2minutemix'\n",
      " '2mnqc73hfk' '2mwc9ywjzy' '2nd' '2nip3d15dx' '2nndbgwyei' '2ns5tfnxpa'\n",
      " '2o7eva1coe' '2okscwyohc' '2oqsgzqlbz' '2oroyunym2' '2pack' '2pcs'\n",
      " '2pimg9bice' '2pm' '2ppzgpxybi' '2q3fuerey5' '2racaivffq' '2rtq9qmgpb'\n",
      " '2sdmichb2z' '2sgdofsmrq' '2slow2report' '2snyghaivs']\n",
      "****************************************************************************************************\n",
      "The shape of the numerical vectors of tweets: \n",
      "(7613, 21637)\n"
     ]
    }
   ],
   "source": [
    "# create an instance of the CountVectorizer()\n",
    "vectorizer = feature_extraction.text.CountVectorizer()\n",
    "\n",
    "# fit the vectorizer to the text data\n",
    "vectorizer.fit(train_df['text'])\n",
    "\n",
    "# print the vocabulary of vectorizer built from the tweets\n",
    "print('*' * 100)\n",
    "print(f'The vocabularies of tweets: \\n{vectorizer.get_feature_names_out()[450:500]}')\n",
    "\n",
    "# transform the text dataset to a sparse matrix of word counts\n",
    "# spare matrix only store non-zero values to save memory\n",
    "X_train = vectorizer.transform(train_df['text'])\n",
    "# using toarray() to convert spare matrix into normal matrix\n",
    "print('*' * 100)\n",
    "print(f'The shape of the numerical vectors of tweets: \\n{X_train.toarray().shape}')"
   ]
  },
  {
   "cell_type": "code",
   "execution_count": 5,
   "id": "ee41f2a3",
   "metadata": {
    "execution": {
     "iopub.execute_input": "2024-02-15T16:41:10.089744Z",
     "iopub.status.busy": "2024-02-15T16:41:10.089344Z",
     "iopub.status.idle": "2024-02-15T16:41:10.175674Z",
     "shell.execute_reply": "2024-02-15T16:41:10.174563Z"
    },
    "papermill": {
     "duration": 0.09392,
     "end_time": "2024-02-15T16:41:10.178322",
     "exception": false,
     "start_time": "2024-02-15T16:41:10.084402",
     "status": "completed"
    },
    "tags": []
   },
   "outputs": [],
   "source": [
    "# transform the text dataset by vectorizer\n",
    "X_test = vectorizer.transform(test_df['text'])"
   ]
  },
  {
   "cell_type": "code",
   "execution_count": null,
   "id": "8b920798",
   "metadata": {
    "papermill": {
     "duration": 0.003238,
     "end_time": "2024-02-15T16:41:10.185308",
     "exception": false,
     "start_time": "2024-02-15T16:41:10.182070",
     "status": "completed"
    },
    "tags": []
   },
   "outputs": [],
   "source": []
  }
 ],
 "metadata": {
  "kaggle": {
   "accelerator": "none",
   "dataSources": [
    {
     "databundleVersionId": 869809,
     "sourceId": 17777,
     "sourceType": "competition"
    }
   ],
   "dockerImageVersionId": 30646,
   "isGpuEnabled": false,
   "isInternetEnabled": true,
   "language": "python",
   "sourceType": "notebook"
  },
  "kernelspec": {
   "display_name": "Python 3",
   "language": "python",
   "name": "python3"
  },
  "language_info": {
   "codemirror_mode": {
    "name": "ipython",
    "version": 3
   },
   "file_extension": ".py",
   "mimetype": "text/x-python",
   "name": "python",
   "nbconvert_exporter": "python",
   "pygments_lexer": "ipython3",
   "version": "3.10.13"
  },
  "papermill": {
   "default_parameters": {},
   "duration": 6.914339,
   "end_time": "2024-02-15T16:41:10.708584",
   "environment_variables": {},
   "exception": null,
   "input_path": "__notebook__.ipynb",
   "output_path": "__notebook__.ipynb",
   "parameters": {},
   "start_time": "2024-02-15T16:41:03.794245",
   "version": "2.5.0"
  }
 },
 "nbformat": 4,
 "nbformat_minor": 5
}
